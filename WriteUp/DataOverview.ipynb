{
 "cells": [
  {
   "cell_type": "markdown",
   "source": [
    "# Data Overview & Exploratory"
   ],
   "metadata": {
    "collapsed": false
   }
  },
  {
   "cell_type": "markdown",
   "source": [
    "It does not go in-depth into any particular topic -\n",
    "check out [Kaggle - Predict Future Sales Competition](https://www.kaggle.com/competitions/competitive-data-science-predict-future-sales/overview) for more information.\n",
    "\n",
    "Check out the content pages bundled with this sample book to see more."
   ],
   "metadata": {
    "collapsed": false
   }
  },
  {
   "cell_type": "code",
   "execution_count": null,
   "outputs": [],
   "source": [],
   "metadata": {
    "collapsed": false
   }
  }
 ],
 "metadata": {
  "kernelspec": {
   "display_name": "Python 3",
   "language": "python",
   "name": "python3"
  },
  "language_info": {
   "codemirror_mode": {
    "name": "ipython",
    "version": 2
   },
   "file_extension": ".py",
   "mimetype": "text/x-python",
   "name": "python",
   "nbconvert_exporter": "python",
   "pygments_lexer": "ipython2",
   "version": "2.7.6"
  }
 },
 "nbformat": 4,
 "nbformat_minor": 0
}
